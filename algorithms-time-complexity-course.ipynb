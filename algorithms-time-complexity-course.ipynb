{
 "cells": [
  {
   "cell_type": "markdown",
   "metadata": {},
   "source": [
    "# Algorithms - Time Complexity Course"
   ]
  },
  {
   "cell_type": "markdown",
   "metadata": {},
   "source": [
    "## 1.1 Priori Analysis & Posteriori Testing"
   ]
  },
  {
   "cell_type": "markdown",
   "metadata": {},
   "source": [
    "What is priori analysis used for?\n",
    "- Algorithms analysis, specifically time-space complexity.\n",
    "\n",
    "What is posterior testing used for?\n",
    "- Program testing, which is hardware, watch time, and byte dependent."
   ]
  },
  {
   "cell_type": "markdown",
   "metadata": {},
   "source": [
    "## 1.2 Algorithm Characteristics"
   ]
  },
  {
   "cell_type": "markdown",
   "metadata": {},
   "source": [
    "1. Input: 0+\n",
    "2. Output: 1+\n",
    "3. Definiteness: clear and concise\n",
    "4. Finiteness: must end somewhere\n",
    "5. Effectiveness: only relevant steps"
   ]
  },
  {
   "cell_type": "markdown",
   "metadata": {},
   "source": [
    "## 1.3 How to Write and Analyze Algorithm"
   ]
  },
  {
   "cell_type": "markdown",
   "metadata": {},
   "source": [
    " 1. Time\n",
    " 2. Space\n",
    " 3. Network: how much data is being transfered\n",
    " 4. Power\n",
    " 5. CPU Registers being consumed\n"
   ]
  },
  {
   "cell_type": "markdown",
   "metadata": {},
   "source": [
    "## 1.4 Frequency Count Method"
   ]
  },
  {
   "cell_type": "code",
   "execution_count": null,
   "metadata": {},
   "outputs": [],
   "source": [
    "array = [1, 2, 3, 4, 5]\n",
    "def sum(array, n):\n",
    "    sum = 0 # 1 time\n",
    "    for i in range(n): # n+1 times (since we loop through 5 times and the final time is to check if current index\n",
    "                            # is less than range(length))\n",
    "        sum += array[i] # n times\n",
    "    return sum # 1 time\n",
    "\n",
    "'''\n",
    "    Time Complexity:\n",
    "        f(n) = 2n + 3\n",
    "        = O(n)\n",
    "    Space Complexity:\n",
    "        array - n space\n",
    "        length, sum, i - all 1 space\n",
    "        s(n) = n + 3\n",
    "        = O(n)\n",
    "'''"
   ]
  },
  {
   "cell_type": "code",
   "execution_count": null,
   "metadata": {},
   "outputs": [],
   "source": [
    "C_matrix = []\n",
    "def add(A, B, n):\n",
    "    for i in range(n): # n+1 times\n",
    "        for j in range(n): # n x (n+1) (refer to any for loop above) times\n",
    "            C_matrix[i, j] = A[i][j] + B[i][j] # n x n (only refer to for loop above) times\n",
    "\n",
    "'''\n",
    "    Time Complexity:\n",
    "        f(n) = 2n^2 + 2n + 1\n",
    "        = O(n^2)\n",
    "\n",
    "    Space Complexity:\n",
    "        A, B, C - n^2 space each\n",
    "        n, i, j - 1 space each\n",
    "        = O(n^2)\n",
    "'''\n"
   ]
  },
  {
   "cell_type": "markdown",
   "metadata": {},
   "source": [
    "## 1.5.1 Time Complexity #1"
   ]
  },
  {
   "cell_type": "code",
   "execution_count": 3,
   "metadata": {},
   "outputs": [],
   "source": [
    "n = 1\n",
    "for i in range(n): # n+1 times\n",
    "    for j in range(n): # n x (n+1) times\n",
    "        k = 1 # 1 x n times\n",
    "        for k in range(n): # n x n x (n+1) times\n",
    "            l = 1 # 1 x n times"
   ]
  },
  {
   "cell_type": "code",
   "execution_count": 7,
   "metadata": {},
   "outputs": [
    {
     "data": {
      "text/plain": [
       "'\\n    i   j   # times statement ran\\n    0   0   0\\n    1   0   1\\n    2   0   2\\n    3   0   3\\n    ...\\n    n   0   n\\n\\n    f(n) = 0+1+2+3+...+n = n(n+1)/2\\n    = O(n^2)\\n'"
      ]
     },
     "execution_count": 7,
     "metadata": {},
     "output_type": "execute_result"
    }
   ],
   "source": [
    "for i in range(n):\n",
    "    for j in range(i):\n",
    "        statement = 0\n",
    "\n",
    "'''\n",
    "    i   j   # times statement ran\n",
    "    0   0   0\n",
    "    1   0   1\n",
    "    2   0   2\n",
    "    3   0   3\n",
    "    ...\n",
    "    n   0   n\n",
    "\n",
    "    f(n) = 0+1+2+3+...+n = n(n+1)/2\n",
    "    = O(n^2)\n",
    "'''"
   ]
  },
  {
   "cell_type": "markdown",
   "metadata": {},
   "source": []
  },
  {
   "cell_type": "code",
   "execution_count": 8,
   "metadata": {},
   "outputs": [
    {
     "data": {
      "text/plain": [
       "'\\n    i   p\\n    1   0+1\\n    2   0+1+2\\n    3   0+1+2+3\\n    ...\\n    k   0+1+2+3+...+k\\n\\n    Loop stops when p = k(k+1)/2 > n.\\n                        k^2 > n\\n                        k > root(n)\\n    Therefore O(root(n))\\n'"
      ]
     },
     "execution_count": 8,
     "metadata": {},
     "output_type": "execute_result"
    }
   ],
   "source": [
    "p = 0\n",
    "n = 5\n",
    "i = 1\n",
    "while p < n:\n",
    "    p += i\n",
    "    i += 1\n",
    "\n",
    "'''\n",
    "    i   p\n",
    "    1   0+1\n",
    "    2   0+1+2\n",
    "    3   0+1+2+3\n",
    "    ...\n",
    "    k   0+1+2+3+...+k\n",
    "\n",
    "    Loop stops when p = k(k+1)/2 > n.\n",
    "                        k^2 > n\n",
    "                        k > root(n)\n",
    "    Therefore O(root(n))\n",
    "'''"
   ]
  },
  {
   "cell_type": "markdown",
   "metadata": {},
   "source": []
  }
 ],
 "metadata": {
  "interpreter": {
   "hash": "cf92aa13fedf815d5c8dd192b8d835913fde3e8bc926b2a0ad6cc74ef2ba3ca2"
  },
  "kernelspec": {
   "display_name": "Python 3.9.6 64-bit",
   "language": "python",
   "name": "python3"
  },
  "language_info": {
   "codemirror_mode": {
    "name": "ipython",
    "version": 3
   },
   "file_extension": ".py",
   "mimetype": "text/x-python",
   "name": "python",
   "nbconvert_exporter": "python",
   "pygments_lexer": "ipython3",
   "version": "3.9.6"
  },
  "orig_nbformat": 4
 },
 "nbformat": 4,
 "nbformat_minor": 2
}
